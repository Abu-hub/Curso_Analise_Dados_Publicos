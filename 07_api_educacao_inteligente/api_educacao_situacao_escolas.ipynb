{
 "cells": [
  {
   "cell_type": "markdown",
   "metadata": {},
   "source": [
    "# Análise dos dados do Escola Inteligente\n",
    "\n",
    "O site Escola Inteligente compila os dados do INEP e libera em formato de API para consulta.\n",
    "\n",
    "Acesso: http://educacao.dadosabertosbr.com"
   ]
  },
  {
   "cell_type": "code",
   "execution_count": 1,
   "metadata": {},
   "outputs": [
    {
     "data": {
      "text/html": [
       "<div>\n",
       "<style scoped>\n",
       "    .dataframe tbody tr th:only-of-type {\n",
       "        vertical-align: middle;\n",
       "    }\n",
       "\n",
       "    .dataframe tbody tr th {\n",
       "        vertical-align: top;\n",
       "    }\n",
       "\n",
       "    .dataframe thead th {\n",
       "        text-align: right;\n",
       "    }\n",
       "</style>\n",
       "<table border=\"1\" class=\"dataframe\">\n",
       "  <thead>\n",
       "    <tr style=\"text-align: right;\">\n",
       "      <th></th>\n",
       "      <th>anoCenso</th>\n",
       "      <th>cidade</th>\n",
       "      <th>cod</th>\n",
       "      <th>codCidade</th>\n",
       "      <th>dependenciaAdministrativa</th>\n",
       "      <th>dependenciaAdministrativaTxt</th>\n",
       "      <th>enemMediaGeral</th>\n",
       "      <th>estado</th>\n",
       "      <th>idebAF</th>\n",
       "      <th>idebAI</th>\n",
       "      <th>nome</th>\n",
       "      <th>regiao</th>\n",
       "      <th>situacaoFuncionamento</th>\n",
       "      <th>situacaoFuncionamentoTxt</th>\n",
       "    </tr>\n",
       "  </thead>\n",
       "  <tbody>\n",
       "    <tr>\n",
       "      <th>0</th>\n",
       "      <td>2013</td>\n",
       "      <td>CANDIDO DE ABREU</td>\n",
       "      <td>41036026</td>\n",
       "      <td>4104402</td>\n",
       "      <td>3</td>\n",
       "      <td>Municipal</td>\n",
       "      <td>0.0</td>\n",
       "      <td>PR</td>\n",
       "      <td>0.0</td>\n",
       "      <td>0.0</td>\n",
       "      <td>BAIRRO DOS MENDES E R M EF</td>\n",
       "      <td>Sul</td>\n",
       "      <td>1</td>\n",
       "      <td>Em atividade</td>\n",
       "    </tr>\n",
       "    <tr>\n",
       "      <th>1</th>\n",
       "      <td>2013</td>\n",
       "      <td>SANTA HELENA</td>\n",
       "      <td>21237808</td>\n",
       "      <td>2109809</td>\n",
       "      <td>3</td>\n",
       "      <td>Municipal</td>\n",
       "      <td>0.0</td>\n",
       "      <td>MA</td>\n",
       "      <td>0.0</td>\n",
       "      <td>0.0</td>\n",
       "      <td>CEF CAJAZEIRAS</td>\n",
       "      <td>Nordeste</td>\n",
       "      <td>1</td>\n",
       "      <td>Em atividade</td>\n",
       "    </tr>\n",
       "    <tr>\n",
       "      <th>2</th>\n",
       "      <td>2013</td>\n",
       "      <td>MONTE ALEGRE</td>\n",
       "      <td>15008258</td>\n",
       "      <td>1504802</td>\n",
       "      <td>3</td>\n",
       "      <td>Municipal</td>\n",
       "      <td>0.0</td>\n",
       "      <td>PA</td>\n",
       "      <td>0.0</td>\n",
       "      <td>0.0</td>\n",
       "      <td>E M E F AGUA AZUL</td>\n",
       "      <td>Norte</td>\n",
       "      <td>1</td>\n",
       "      <td>Em atividade</td>\n",
       "    </tr>\n",
       "    <tr>\n",
       "      <th>3</th>\n",
       "      <td>2013</td>\n",
       "      <td>PLACAS</td>\n",
       "      <td>15534340</td>\n",
       "      <td>1505650</td>\n",
       "      <td>3</td>\n",
       "      <td>Municipal</td>\n",
       "      <td>0.0</td>\n",
       "      <td>PA</td>\n",
       "      <td>0.0</td>\n",
       "      <td>0.0</td>\n",
       "      <td>E M E F AGUA BOA</td>\n",
       "      <td>Norte</td>\n",
       "      <td>1</td>\n",
       "      <td>Em atividade</td>\n",
       "    </tr>\n",
       "    <tr>\n",
       "      <th>4</th>\n",
       "      <td>2013</td>\n",
       "      <td>MOJU</td>\n",
       "      <td>15590356</td>\n",
       "      <td>1504703</td>\n",
       "      <td>3</td>\n",
       "      <td>Municipal</td>\n",
       "      <td>0.0</td>\n",
       "      <td>PA</td>\n",
       "      <td>0.0</td>\n",
       "      <td>0.0</td>\n",
       "      <td>E M E F AGUA PRETA</td>\n",
       "      <td>Norte</td>\n",
       "      <td>1</td>\n",
       "      <td>Em atividade</td>\n",
       "    </tr>\n",
       "  </tbody>\n",
       "</table>\n",
       "</div>"
      ],
      "text/plain": [
       "   anoCenso            cidade       cod  codCidade  dependenciaAdministrativa  \\\n",
       "0      2013  CANDIDO DE ABREU  41036026    4104402                          3   \n",
       "1      2013      SANTA HELENA  21237808    2109809                          3   \n",
       "2      2013      MONTE ALEGRE  15008258    1504802                          3   \n",
       "3      2013            PLACAS  15534340    1505650                          3   \n",
       "4      2013              MOJU  15590356    1504703                          3   \n",
       "\n",
       "  dependenciaAdministrativaTxt  enemMediaGeral estado  idebAF  idebAI  \\\n",
       "0                    Municipal             0.0     PR     0.0     0.0   \n",
       "1                    Municipal             0.0     MA     0.0     0.0   \n",
       "2                    Municipal             0.0     PA     0.0     0.0   \n",
       "3                    Municipal             0.0     PA     0.0     0.0   \n",
       "4                    Municipal             0.0     PA     0.0     0.0   \n",
       "\n",
       "                         nome    regiao  situacaoFuncionamento  \\\n",
       "0  BAIRRO DOS MENDES E R M EF       Sul                      1   \n",
       "1              CEF CAJAZEIRAS  Nordeste                      1   \n",
       "2           E M E F AGUA AZUL     Norte                      1   \n",
       "3            E M E F AGUA BOA     Norte                      1   \n",
       "4          E M E F AGUA PRETA     Norte                      1   \n",
       "\n",
       "  situacaoFuncionamentoTxt  \n",
       "0             Em atividade  \n",
       "1             Em atividade  \n",
       "2             Em atividade  \n",
       "3             Em atividade  \n",
       "4             Em atividade  "
      ]
     },
     "execution_count": 1,
     "metadata": {},
     "output_type": "execute_result"
    }
   ],
   "source": [
    "# Importando as bibliotecas\n",
    "import pandas as pd\n",
    "# Usamos a biblioteca requests para fazer uma requisição a algum site\n",
    "import requests\n",
    "\n",
    "# URL de acesso aos dados via api\n",
    "# Basta ir ao site, montar a consulta de seu interesse e pegar a URL gerada\n",
    "# Queremos as escolas que estão em funcionamento mas não têm energia, nem água, nem esgoto\n",
    "url = 'http://educacao.dadosabertosbr.com/api/escolas/buscaavancada?situacaoFuncionamento=1&energiaInexistente=on&aguaInexistente=on&esgotoInexistente=on'\n",
    "\n",
    "# Pandas consegue ler JSON diretamente\n",
    "#df = pd.read_json(url, orient='records')\n",
    "# MAS NUNCA FUNCIONA\n",
    "\n",
    "# Vamos ter que requisitar o arquivo, transformar em lista, pegar apenas o elemento desejado e transformar em DF\n",
    "\n",
    "# Obtendo os dados\n",
    "# Vamos fazer uma requisicao ao site e receber um texto como resposta\n",
    "resposta = requests.get(url)\n",
    "\n",
    "# O texto da resposta\n",
    "# Pode ser o código de uma página, por exemplo (raspagem)\n",
    "resposta.text\n",
    "\n",
    "# Criando o DataFrame\n",
    "df = pd.DataFrame(resposta.json()[1])\n",
    "\n",
    "df.head()\n"
   ]
  },
  {
   "cell_type": "code",
   "execution_count": 2,
   "metadata": {},
   "outputs": [
    {
     "data": {
      "text/plain": [
       "anoCenso                        100\n",
       "cidade                          100\n",
       "cod                             100\n",
       "codCidade                       100\n",
       "dependenciaAdministrativa       100\n",
       "dependenciaAdministrativaTxt    100\n",
       "enemMediaGeral                  100\n",
       "estado                          100\n",
       "idebAF                          100\n",
       "idebAI                          100\n",
       "nome                            100\n",
       "regiao                          100\n",
       "situacaoFuncionamento           100\n",
       "situacaoFuncionamentoTxt        100\n",
       "dtype: int64"
      ]
     },
     "execution_count": 2,
     "metadata": {},
     "output_type": "execute_result"
    }
   ],
   "source": [
    "# Qual o tamanho do DataFrame?\n",
    "df.count()"
   ]
  },
  {
   "cell_type": "code",
   "execution_count": 3,
   "metadata": {},
   "outputs": [
    {
     "data": {
      "text/plain": [
       "PA    98\n",
       "MA     1\n",
       "PR     1\n",
       "Name: estado, dtype: int64"
      ]
     },
     "execution_count": 3,
     "metadata": {},
     "output_type": "execute_result"
    }
   ],
   "source": [
    "# Em quais estados estão essas escolas?\n",
    "df.estado.value_counts()"
   ]
  },
  {
   "cell_type": "code",
   "execution_count": 4,
   "metadata": {},
   "outputs": [
    {
     "data": {
      "text/plain": [
       "Municipal    100\n",
       "Name: dependenciaAdministrativaTxt, dtype: int64"
      ]
     },
     "execution_count": 4,
     "metadata": {},
     "output_type": "execute_result"
    }
   ],
   "source": [
    "# São todas escolas municipais?\n",
    "df.dependenciaAdministrativaTxt.value_counts()"
   ]
  }
 ],
 "metadata": {
  "kernelspec": {
   "display_name": "Python 3",
   "language": "python",
   "name": "python3"
  },
  "language_info": {
   "codemirror_mode": {
    "name": "ipython",
    "version": 3
   },
   "file_extension": ".py",
   "mimetype": "text/x-python",
   "name": "python",
   "nbconvert_exporter": "python",
   "pygments_lexer": "ipython3",
   "version": "3.6.4"
  }
 },
 "nbformat": 4,
 "nbformat_minor": 2
}
