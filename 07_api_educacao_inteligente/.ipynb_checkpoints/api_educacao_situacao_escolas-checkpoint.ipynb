{
 "cells": [
  {
   "cell_type": "markdown",
   "metadata": {},
   "source": [
    "# Análise dos dados do Escola Inteligente\n",
    "\n",
    "O site Escola Inteligente compila os dados do INEP e libera em formato de API para consulta.\n",
    "\n",
    "Acesso: http://educacao.dadosabertosbr.com"
   ]
  },
  {
   "cell_type": "code",
   "execution_count": null,
   "metadata": {},
   "outputs": [],
   "source": [
    "# Importando as bibliotecas\n",
    "import pandas as pd\n",
    "# Usamos a biblioteca requests para fazer uma requisição a algum site\n",
    "import requests\n",
    "\n",
    "# URL de acesso aos dados via api\n",
    "# Basta ir ao site, montar a consulta de seu interesse e pegar a URL gerada\n",
    "# Queremos as escolas que estão em funcionamento mas não têm energia, nem água, nem esgoto\n",
    "url = 'http://educacao.dadosabertosbr.com/api/escolas/buscaavancada?situacaoFuncionamento=1&energiaInexistente=on&aguaInexistente=on&esgotoInexistente=on'\n",
    "\n",
    "# Pandas consegue ler JSON diretamente\n",
    "#df = pd.read_json(url, orient='records')\n",
    "# MAS NUNCA FUNCIONA\n",
    "\n",
    "# Vamos ter que requisitar o arquivo, transformar em lista, pegar apenas o elemento desejado e transformar em DF\n",
    "\n",
    "# Obtendo os dados\n",
    "# Vamos fazer uma requisicao ao site e receber um texto como resposta\n",
    "resposta = requests.get(url)\n",
    "\n",
    "# O texto da resposta\n",
    "# Pode ser o código de uma página, por exemplo (raspagem)\n",
    "resposta.text\n",
    "\n",
    "# Criando o DataFrame\n",
    "df = pd.DataFrame(resposta.json()[1])\n",
    "\n",
    "df.head()\n"
   ]
  },
  {
   "cell_type": "code",
   "execution_count": null,
   "metadata": {},
   "outputs": [],
   "source": [
    "# Qual o tamanho do DataFrame?\n",
    "df.count()"
   ]
  },
  {
   "cell_type": "code",
   "execution_count": null,
   "metadata": {},
   "outputs": [],
   "source": [
    "# Em quais estados estão essas escolas?\n",
    "df.estado.value_counts()"
   ]
  },
  {
   "cell_type": "code",
   "execution_count": null,
   "metadata": {},
   "outputs": [],
   "source": [
    "# São todas escolas municipais?\n",
    "df.dependenciaAdministrativaTxt.value_counts()"
   ]
  }
 ],
 "metadata": {
  "kernelspec": {
   "display_name": "Python 3",
   "language": "python",
   "name": "python3"
  },
  "language_info": {
   "codemirror_mode": {
    "name": "ipython",
    "version": 3
   },
   "file_extension": ".py",
   "mimetype": "text/x-python",
   "name": "python",
   "nbconvert_exporter": "python",
   "pygments_lexer": "ipython3",
   "version": "3.6.4"
  }
 },
 "nbformat": 4,
 "nbformat_minor": 2
}
