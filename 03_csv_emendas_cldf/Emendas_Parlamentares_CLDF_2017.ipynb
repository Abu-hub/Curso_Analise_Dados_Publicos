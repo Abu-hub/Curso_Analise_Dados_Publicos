{
 "cells": [
  {
   "cell_type": "markdown",
   "metadata": {},
   "source": [
    "# Análise das Emendas Parlamentares da CLDF em 2017\n",
    "\n",
    "Com base no dados dsponibilizados no Portal de Dados Abertos do GDF iremos analisar as emendas parlamentares da CLDF em 2017. \n",
    "\n",
    "Como obter os dados:\n",
    "- Ir no site de Dados Abertos do DF, escolher governo, escolher emendas 2017\n",
    "\n",
    "Arquivos:\n",
    "- emendasparlamentares-012017.csv\n",
    "- emendasparlamentares-022017.csv"
   ]
  },
  {
   "cell_type": "markdown",
   "metadata": {},
   "source": [
    "# ATENÇÃO!\n",
    "ESSE ARQUIVO TEM UMA ESTRUTURA BIZARRA!\n",
    "\n",
    "NO MEIO DO ARQUIVO CSV O NÚMERO DE COLUNAS MUDA, COMO SE O ARQUIVO TIVESSE 2 DOIS CONJUNTOS DE INFORMAÇÕES DIFERENTES.\n",
    "COMO O NÚMERO DE LINHAS DA PRIMEIRA PARTE É IGUAL AO NÚMERO DE LINHAS DA SEGUNDA, ISSO DEVE SER INTENCIONAL.\n",
    "\n",
    "TUDO INDICA QUE A PRIMEIRA PARTE CONTÉM DADOS DOS PEDIDOS DE EMENDAS E A SEGUNDA PARTE TEM OS DADOS DE EXECUÇÃO DAS MESMAS EMENDAS SOLICITADAS.\n",
    "\n",
    "O PANDAS PERMITE CARREGAR APENAS UMA PARTE DE UM ARQUIVO CSV, ENTÃO IREMOS CARREGAR A PRIMEIRA PARTE EM UM DATAFRAME E A SEGUNDA PARTE EM OUTRO DATAFRAME"
   ]
  },
  {
   "cell_type": "code",
   "execution_count": null,
   "metadata": {},
   "outputs": [],
   "source": [
    "# Importando as bibliotecas\n",
    "import pandas as pd\n",
    "\n",
    "# ATENÇÃO! VAMOS COMEÇAR FAZENDO APENAS JANEIRO E RESOLVENDO OS ERROS AOS POUCOS\n",
    "\n",
    "# Usaremos o nrows para carregar apenas a primeira parte do arquivo\n",
    "\n",
    "# Carregando o arquivo\n",
    "# Somente a primeira parte, até onde está dando erro\n",
    "df_janeiro_1 = pd.read_csv('emendasparlamentares-012017.csv', nrows=113)\n",
    "\n",
    "df_janeiro_1.head()"
   ]
  },
  {
   "cell_type": "code",
   "execution_count": null,
   "metadata": {},
   "outputs": [],
   "source": [
    "# Vamos verificar a quantidade de registros no arquivo\n",
    "df_janeiro_1.count()"
   ]
  },
  {
   "cell_type": "code",
   "execution_count": null,
   "metadata": {},
   "outputs": [],
   "source": [
    "# Agora vamos carregar o mesmo arquivo csv mas pulando as primeiras linhas, que já foram carregadas\n",
    "# Usaremos o skiprows para isso\n",
    "df_janeiro_2 = pd.read_csv('emendasparlamentares-012017.csv', skiprows=114)\n",
    "\n",
    "df_janeiro_2.head()"
   ]
  },
  {
   "cell_type": "code",
   "execution_count": null,
   "metadata": {},
   "outputs": [],
   "source": [
    "# Verificando a qtde de registros\n",
    "df_janeiro_2.count()"
   ]
  },
  {
   "cell_type": "code",
   "execution_count": null,
   "metadata": {},
   "outputs": [],
   "source": [
    "# Exercício -> baixar fevereiro e importar\n",
    "\n",
    "# Mesmo problema em fevereiro -> mesma solução\n",
    "# A primeira parte\n",
    "df_fevereiro_1 = pd.read_csv('emendasparlamentares-022017.csv', nrows=1558)\n",
    "\n",
    "df_fevereiro_1.head()"
   ]
  },
  {
   "cell_type": "code",
   "execution_count": null,
   "metadata": {},
   "outputs": [],
   "source": [
    "df_fevereiro_1.count()"
   ]
  },
  {
   "cell_type": "code",
   "execution_count": null,
   "metadata": {},
   "outputs": [],
   "source": [
    "# A segunda parte das emendas de fevereiro\n",
    "df_fevereiro_2 = pd.read_csv('emendasparlamentares-022017.csv', skiprows=1559)\n",
    "\n",
    "df_fevereiro_2.head()"
   ]
  },
  {
   "cell_type": "code",
   "execution_count": null,
   "metadata": {},
   "outputs": [],
   "source": [
    "df_fevereiro_2.count()"
   ]
  },
  {
   "cell_type": "code",
   "execution_count": null,
   "metadata": {},
   "outputs": [],
   "source": [
    "# Podemos juntar DataFrames, colocando um no final do outro. Chamamos isso de Append\n",
    "# Cuidado: colunas que só existem em 1 dataframe serão adicionadas ao novo DataFrame criado\n",
    "# Outra possibilidade é usar a função Concat, que funciona de forma semelhante. Leia a documentação\n",
    "\n",
    "# Iremos concatenar inicialmente a parte inicial dos dois arquivos\n",
    "df_anterior = df_janeiro_1.append(df_fevereiro_1, ignore_index=True)\n",
    "\n",
    "df_anterior.count()"
   ]
  },
  {
   "cell_type": "code",
   "execution_count": null,
   "metadata": {},
   "outputs": [],
   "source": [
    "# Fazer a mesma coisa para os outros 2 DataFrames que correspondem aos dados da parte final dos dois arquivos\n",
    "df_posterior = df_janeiro_2.append(df_fevereiro_2, ignore_index=True)\n",
    "\n",
    "df_posterior.count()"
   ]
  },
  {
   "cell_type": "code",
   "execution_count": null,
   "metadata": {},
   "outputs": [],
   "source": [
    "# Exercício\n",
    "# Baixar todos os arquivos de 2017, carregar cada mês em 2 DataFrames distintos\n",
    "# E concatenar todos os DataFrames da primeira e todos os DataFrames da segunda\n",
    "# Assim teremos todas as solicitações de emendas parlamentares de 2017 em um DataFrame\n",
    "# E todas as execuções de emendas de 2017 em outro DataFrame"
   ]
  }
 ],
 "metadata": {
  "kernelspec": {
   "display_name": "Python 3",
   "language": "python",
   "name": "python3"
  },
  "language_info": {
   "codemirror_mode": {
    "name": "ipython",
    "version": 3
   },
   "file_extension": ".py",
   "mimetype": "text/x-python",
   "name": "python",
   "nbconvert_exporter": "python",
   "pygments_lexer": "ipython3",
   "version": "3.6.4"
  }
 },
 "nbformat": 4,
 "nbformat_minor": 2
}
