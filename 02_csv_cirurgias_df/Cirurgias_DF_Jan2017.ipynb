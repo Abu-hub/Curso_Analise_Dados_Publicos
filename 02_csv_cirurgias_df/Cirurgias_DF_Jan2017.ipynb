{
 "cells": [
  {
   "cell_type": "markdown",
   "metadata": {},
   "source": [
    "# Analisando Dados de Cirurgias no DF\n",
    "\n",
    "Com base no arquivo CSV disponível no site de Dados Abertos do GDF vamos analisar os dados de cirurgias eletivas e de emergência realizadas no DF em Janeiro de 2017.\n",
    "\n",
    "Como obter os dados:\n",
    "- Ir no Dados Abertos do DF, escolher saúde, escolher cirurgias\n",
    "\n",
    "Arquivo: sih-janeiro-2017-cirurgias-eletiva-e-emergencia.csv"
   ]
  },
  {
   "cell_type": "code",
   "execution_count": null,
   "metadata": {},
   "outputs": [],
   "source": [
    "# Abrir o arquivo CSV e colocar em uma variavel para ser usado depois\n",
    "arquivo = open('sih-janeiro-2017-cirurgias-eletiva-e-emergencia.csv')\n",
    "\n",
    "# Visualizar os dados do arquivo\n",
    "for linha in arquivo:\n",
    "    print(linha)"
   ]
  },
  {
   "cell_type": "code",
   "execution_count": null,
   "metadata": {},
   "outputs": [],
   "source": [
    "# Agora vamos usar todo o poder das bibliotecas do python\n",
    "# A biblioteca pandas é usada para análise de dados e fornece uma grande quantidade de funcionalidades\n",
    "# que auxliam muito o trabalho de tratar dados vindos de diversas fontes\n",
    "\n",
    "# Importando a biblioteca\n",
    "import pandas as pd\n",
    "\n",
    "# ATENÇÃO\n",
    "# É preciso informar o delimitador e o encode correto\n",
    "# cp1252 é encoding de csv salvo no Excel\n",
    "\n",
    "# Como o arquivo CSV tem muitas colunas e não nos interessamos por todas, vamos carregar apenas as colunas que nos interessam\n",
    "# 3 - Hospital, 6 - Municipio, 7 - Complexidade, 8 - Carater Atendimento, 12 - Sub Grupo Procedimento, 14 - Procedimento\n",
    "\n",
    "# No pandas um conjunto de dados é chamado de DataFrame e, por convenção, intitulado df\n",
    "# Carregando o arquivo csv para um dataframe\n",
    "df = pd.read_csv('sih-janeiro-2017-cirurgias-eletiva-e-emergencia.csv', sep=';', encoding='cp1252', usecols=[3, 6, 7, 8, 12, 14])\n",
    "\n",
    "# Mudando o nome das colunas para um nome mais intuitivo\n",
    "df.columns = ['Hospital', 'Municipio', 'Complexidade', 'Carater Atendimento', 'Sub Grupo Procedimento', 'Procedimento']\n",
    "\n",
    "# Exibindo apenas as primeiras linhas\n",
    "df.head(2)"
   ]
  },
  {
   "cell_type": "code",
   "execution_count": null,
   "metadata": {},
   "outputs": [],
   "source": [
    "# O pandas consegue mostrar um resumo quantitativo dos dados contidos no dataframe\n",
    "# Isso vale apenas para as colunas que contenham valores numéricos\n",
    "df.describe()"
   ]
  },
  {
   "cell_type": "code",
   "execution_count": null,
   "metadata": {},
   "outputs": [],
   "source": [
    "# É possível obter informações de cada coluna separadamente\n",
    "# Vamos verificar os valores únicos da coluna de hospitais\n",
    "df['Hospital'].unique()"
   ]
  },
  {
   "cell_type": "code",
   "execution_count": null,
   "metadata": {},
   "outputs": [],
   "source": [
    "# Podemos referenciar os campos diretamente no DataFrame, mas somente aqueles nomeados com uma única palavra, sem espaços\n",
    "# Vamos contar a qtde de cirurgias de cada hospital\n",
    "df.Hospital.value_counts()"
   ]
  },
  {
   "cell_type": "code",
   "execution_count": null,
   "metadata": {},
   "outputs": [],
   "source": [
    "# Vamos olhar agora o subgrupo\n",
    "df['Sub Grupo Procedimento'].value_counts()"
   ]
  },
  {
   "cell_type": "code",
   "execution_count": null,
   "metadata": {},
   "outputs": [],
   "source": [
    "# Podemos criar subconjuntos dos dados para facilitar a análise\n",
    "# E esses subconjuntos podem ser novos DataFrames\n",
    "# Usamos alguma condição/teste para determinar como o subconjunto será montado\n",
    "\n",
    "# Vamos pegar apenas os hospitais que possuem 'BASE' em alguma posição do seu nome\n",
    "df_hospbase = df[df.Hospital.str.contains('BASE')]\n",
    "\n",
    "df_hospbase.head()"
   ]
  },
  {
   "cell_type": "code",
   "execution_count": null,
   "metadata": {},
   "outputs": [],
   "source": [
    "# Agora, considerando apenas as cirurgias no Hospital de Base, vamos verificar a qtde de cada procedimento\n",
    "df_hospbase.Procedimento.value_counts()"
   ]
  },
  {
   "cell_type": "code",
   "execution_count": null,
   "metadata": {},
   "outputs": [],
   "source": [
    "# Como exemplo, vamos verificar apenas as cirurgias que envolveram amputação\n",
    "# Como em alguns casos amputação está escrito com acento e em outros não, vamos usar um pedaço da palavra\n",
    "df_hospbase[df_hospbase.Procedimento.str.contains('AMPUTA')].Hospital.count()"
   ]
  },
  {
   "cell_type": "code",
   "execution_count": null,
   "metadata": {},
   "outputs": [],
   "source": [
    "# Trabalhar com agrupamento\n",
    "# Vamos voltar o DataFrame original, que chamamos de df\n",
    "# Agrupar os dados pelo hospital e mostrar a primeira cirurgia de cada hospital\n",
    "df.groupby('Hospital').first()"
   ]
  },
  {
   "cell_type": "code",
   "execution_count": null,
   "metadata": {},
   "outputs": [],
   "source": [
    "# Fazendo o agrupamento por um campo x eu posso visualizar os demais campos, que já estarão separados pelo agrupamento\n",
    "# Vamos saber a qtde de cirurgias por carater de atendimento por hospital\n",
    "df.groupby('Hospital')['Carater Atendimento'].value_counts()"
   ]
  },
  {
   "cell_type": "code",
   "execution_count": null,
   "metadata": {},
   "outputs": [],
   "source": [
    "# É possível, também, agrupar por 2 ou mais campos, e exibir os demais dados usando o agrupamento\n",
    "df.groupby(['Hospital', 'Carater Atendimento'])['Sub Grupo Procedimento'].value_counts()"
   ]
  },
  {
   "cell_type": "code",
   "execution_count": null,
   "metadata": {},
   "outputs": [],
   "source": [
    "# AGORA VAMOS PIVOTAR!\n",
    "\n",
    "# Temos que mudar as informações de display para caber na tela\n",
    "pd.set_option('display.max_columns', 500)\n",
    "\n",
    "# Pivotar!\n",
    "df.pivot_table(index='Sub Grupo Procedimento', columns='Hospital', aggfunc='count', fill_value=0, margins=True)"
   ]
  },
  {
   "cell_type": "code",
   "execution_count": null,
   "metadata": {},
   "outputs": [],
   "source": [
    "# Também podemos pivotar o contrário\n",
    "df.pivot_table(index='Hospital', columns='Sub Grupo Procedimento', aggfunc='count', fill_value=0, margins=True)"
   ]
  }
 ],
 "metadata": {
  "kernelspec": {
   "display_name": "Python 3",
   "language": "python",
   "name": "python3"
  },
  "language_info": {
   "codemirror_mode": {
    "name": "ipython",
    "version": 3
   },
   "file_extension": ".py",
   "mimetype": "text/x-python",
   "name": "python",
   "nbconvert_exporter": "python",
   "pygments_lexer": "ipython3",
   "version": "3.6.4"
  }
 },
 "nbformat": 4,
 "nbformat_minor": 2
}
