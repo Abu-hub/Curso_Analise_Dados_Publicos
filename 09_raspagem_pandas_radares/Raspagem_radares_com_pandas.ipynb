{
 "cells": [
  {
   "cell_type": "markdown",
   "metadata": {},
   "source": [
    "# Análise dos radares do DF\n",
    "Com base nos dados sobre cada radar, de cada tipo, disponível no site do Detran/DF vamos tentar obter informações sobre eles\n",
    "\n",
    "Existem bibliotecas específicas para auxiliar a raspagem de dados, mas o próprio pandas conseguem obter dados de sites, desde que os dados estejam em tabelas."
   ]
  },
  {
   "cell_type": "code",
   "execution_count": null,
   "metadata": {},
   "outputs": [],
   "source": [
    "# Importando as bibliotecas\n",
    "import requests\n",
    "import pandas as pd\n",
    "\n",
    "# Site onde estão os dados\n",
    "url = \"http://getran.detran.df.gov.br/site/veiculos/listar-radares.jsp\"\n",
    "\n",
    "# Requisicao para obter os dados\n",
    "r = requests.get(url)\n",
    "\n",
    "# Obtém os dados do HTML da página\n",
    "table = pd.read_html(r.text)\n",
    "\n",
    "# Pega o primeiro elemento, a tabela\n",
    "df = table[0]\n",
    "\n",
    "df.head()"
   ]
  },
  {
   "cell_type": "code",
   "execution_count": null,
   "metadata": {},
   "outputs": [],
   "source": [
    "# Quantos radares existem em Brasília?\n",
    "df.count()"
   ]
  },
  {
   "cell_type": "code",
   "execution_count": null,
   "metadata": {},
   "outputs": [],
   "source": [
    "# Convertendo todos os locais para maiúscula\n",
    "df.Local = df.Local.str.upper()"
   ]
  },
  {
   "cell_type": "code",
   "execution_count": null,
   "metadata": {},
   "outputs": [],
   "source": [
    "print(df)"
   ]
  },
  {
   "cell_type": "code",
   "execution_count": null,
   "metadata": {},
   "outputs": [],
   "source": [
    "# Exercício: Quantos radares de cada tipo\n",
    "\n",
    "# Resposta 1: Contar os valores do campo\n",
    "df.Tipo.value_counts()"
   ]
  },
  {
   "cell_type": "code",
   "execution_count": null,
   "metadata": {
    "scrolled": true
   },
   "outputs": [],
   "source": [
    "# Resposta 2: Agrupar por Tipo\n",
    "df.groupby('Tipo').count()"
   ]
  },
  {
   "cell_type": "code",
   "execution_count": null,
   "metadata": {},
   "outputs": [],
   "source": [
    "# Exercício: Quantos radares existem na via L2? Por cada Tipo!\n",
    "\n",
    "# Solucão 1 : Criar novo dataframe filtrando por L2\n",
    "df_radaresL2 = df[df.Local.str.contains('L2')]\n",
    "\n",
    "df_radaresL2.count()"
   ]
  },
  {
   "cell_type": "code",
   "execution_count": null,
   "metadata": {},
   "outputs": [],
   "source": [
    "df_radaresL2.groupby('Tipo').count()"
   ]
  },
  {
   "cell_type": "code",
   "execution_count": null,
   "metadata": {},
   "outputs": [],
   "source": [
    "# Vamos ver se está certo?\n",
    "df_radaresL2"
   ]
  },
  {
   "cell_type": "code",
   "execution_count": null,
   "metadata": {},
   "outputs": [],
   "source": [
    "# Separar apenas os radares da L2 Norte\n",
    "df_radaresL2Norte = df_radaresL2[df_radaresL2.Local.str.contains('L2 NORTE')]\n",
    "\n",
    "df_radaresL2Norte"
   ]
  }
 ],
 "metadata": {
  "kernelspec": {
   "display_name": "Python 3",
   "language": "python",
   "name": "python3"
  },
  "language_info": {
   "codemirror_mode": {
    "name": "ipython",
    "version": 3
   },
   "file_extension": ".py",
   "mimetype": "text/x-python",
   "name": "python",
   "nbconvert_exporter": "python",
   "pygments_lexer": "ipython3",
   "version": "3.6.4"
  }
 },
 "nbformat": 4,
 "nbformat_minor": 2
}
