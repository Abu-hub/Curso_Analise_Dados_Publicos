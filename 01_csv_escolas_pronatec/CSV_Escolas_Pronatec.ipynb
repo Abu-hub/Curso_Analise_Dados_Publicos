{
 "cells": [
  {
   "cell_type": "markdown",
   "metadata": {},
   "source": [
    "# Análise dos Dados das Escolas do PRONATEC - MEC\n",
    "\n",
    "Com base nos dados disponibilizados pelo MEC no Portal de Dados Abertos do Governo Federal, analisamos as informações sobre as unidades do PRONATEC em todo o Brasil\n",
    "\n",
    "Ir no site Dados Abertos, escolher Dados, escolher MEC, escolher Pronatec, escolher dados das escolas\n",
    "\n",
    "Arquivo: PDA_UNIDADES_RF_EPCT_CSV.csv"
   ]
  },
  {
   "cell_type": "code",
   "execution_count": null,
   "metadata": {},
   "outputs": [],
   "source": [
    "# Começar abrindo o arquivo e listando tudo, usando for\n",
    "\n",
    "# LEMBRAR SOBRE o ENCODE. No geral deve funcionar mas se aparecer caracter estranho tem que mudar o encode\n",
    "# Abrir o arquivo\n",
    "arquivo = open('PDA_UNIDADES_RF_EPCT_CSV.csv')\n",
    "\n",
    "# Listar o arquivo\n",
    "for linha in arquivo:\n",
    "    print(linha)\n",
    "    \n",
    "# Contar a quantidade de escolas - Cada linha é uma escola\n",
    "# Criar uma variavel para guardar o somatório do número de escolas e iniciar com zero\n",
    "#qtdeEscolas = 0\n",
    "#Percorrer o arquivo e, para cada linha/escola, aumentar a variavel da quantidade\n",
    "#for escola in arquivo:\n",
    "#qtdeEscolas = qtdeEscolas + 1\n",
    "#Mostrar a quantidade ao final\n",
    "#print(qtdeEscolas)\n",
    "    \n",
    "# O problema ao analisar os dados nesse formato inicial é que cada linha é uma string, um texto único,\n",
    "# e as informações contidas em cada linha não são facilmente divididas"
   ]
  },
  {
   "cell_type": "code",
   "execution_count": null,
   "metadata": {},
   "outputs": [],
   "source": [
    "# Vamos obter os dados em um formato mais fácil para análise - Passo 1 Listas\n",
    "arquivo.seek(0)\n",
    "# Importando as bibliotecas necessárias\n",
    "import csv\n",
    "\n",
    "# ATENÇÃO - Não vai funcionar da primeira vez por conta do ponto e vírgula\n",
    "# Arquivos csv, por padrão, são separados por vírgula, mas esse está separado por ponto e vírgula\n",
    "# Tem que informar o delimitador\n",
    "\n",
    "# Transformar o arquivo com base na biblioteca csv\n",
    "registros = csv.reader(arquivo, delimiter=';')\n",
    "\n",
    "# Exibir todos os registros\n",
    "for registro in registros:\n",
    "    print(registro)\n",
    "    \n",
    "# Usando listas podemos acessar cada uma das informações de uma linha/escola usando um número que indica a posição\n",
    "# da informação na lista. Lembrando sempre que programadores começam a contar do zero\n",
    "arquivo.seek(0)\n",
    "# Vamos listar apenas os nomes da unidade\n",
    "for registro in registros:\n",
    "    print(registro[1])"
   ]
  },
  {
   "cell_type": "code",
   "execution_count": null,
   "metadata": {},
   "outputs": [],
   "source": [
    "arquivo.seek(0)\n",
    "# Vamos somar quantas escolas existem na região Centro-Oeste\n",
    "\n",
    "# Variável para guardar a soma\n",
    "qtdeCentroOeste = 0\n",
    "# Percorre os registros\n",
    "for escola in registros:\n",
    "    # Verifica se é no Centro-Oeste\n",
    "    if escola[3] == 'Centro-Oeste':\n",
    "        # Incrementa a quantidade\n",
    "        qtdeCentroOeste += 1\n",
    "        \n",
    "# Mostra a quantidade\n",
    "print(qtdeCentroOeste)"
   ]
  },
  {
   "cell_type": "code",
   "execution_count": null,
   "metadata": {},
   "outputs": [],
   "source": [
    "# Ainda podemos melhorar a forma como as informacoes ficam disponíveis, usando dicionários (dict)\n",
    "# EXPLICAR ESTRUTURA CHAVE,VALOR\n",
    "arquivo.seek(0)\n",
    "\n",
    "# Transformar o arquivo para dicionario\n",
    "dicionario = list(csv.DictReader(arquivo, delimiter=';'))\n",
    "\n",
    "# Exibir todos os registros\n",
    "for escola in dicionario:\n",
    "    print(escola)\n",
    "    \n",
    "# A grande vantagem do dicionário é poder acessar as informações de forma mais intuitiva, declarativa, fácil\n",
    "# Basta referenciar a chave e obter os valores"
   ]
  },
  {
   "cell_type": "code",
   "execution_count": null,
   "metadata": {},
   "outputs": [],
   "source": [
    "for escola in dicionario:\n",
    "    print(escola['NOME_MESORREGIAO_UNIDADE'])"
   ]
  },
  {
   "cell_type": "code",
   "execution_count": null,
   "metadata": {},
   "outputs": [],
   "source": [
    "# EXERCÍCIO\n",
    "# Reescrever o código que soma as escolas do Centro-Oeste usando dict\n",
    "\n",
    "# Variável para guardar a soma\n",
    "qtdeCentroOeste = 0\n",
    "# Percorre os registros\n",
    "for escola in dicionario:\n",
    "    # Verifica se é no Centro-Oeste\n",
    "    if escola['NOME_REGIAO_UNIDADE'] == 'Centro-Oeste':\n",
    "        # Incrementa a quantidade\n",
    "        qtdeCentroOeste += 1\n",
    "        \n",
    "# Mostra a quantidade\n",
    "print(qtdeCentroOeste)"
   ]
  },
  {
   "cell_type": "code",
   "execution_count": null,
   "metadata": {},
   "outputs": [],
   "source": [
    "# Somar as escolas de cada região do Brasil\n",
    "\n",
    "# Variável para guardar a soma - 1 para cada região\n",
    "qtdeCentroOeste = 0\n",
    "qtdeNordeste = 0\n",
    "qtdeNorte = 0\n",
    "qtdeSudeste = 0\n",
    "qtdeSul = 0\n",
    "\n",
    "# Percorre os registros\n",
    "for escola in dicionario:\n",
    "    # Verifica se é no Centro-Oeste\n",
    "    if escola['NOME_REGIAO_UNIDADE'] == 'Centro-Oeste':\n",
    "        # Incrementa a quantidade\n",
    "        qtdeCentroOeste += 1\n",
    "    # Verifica se é no Nordeste\n",
    "    elif escola['NOME_REGIAO_UNIDADE'] == 'Nordeste':\n",
    "        # Incrementa a quantidade\n",
    "        qtdeNordeste += 1\n",
    "    # Verifica se é no Norte\n",
    "    elif escola['NOME_REGIAO_UNIDADE'] == 'Norte':\n",
    "        # Incrementa a quantidade\n",
    "        qtdeNorte += 1    \n",
    "    # Verifica se é no Sudeste\n",
    "    elif escola['NOME_REGIAO_UNIDADE'] == 'Sudeste':\n",
    "        # Incrementa a quantidade\n",
    "        qtdeSudeste += 1\n",
    "    # Só faltou o Sul\n",
    "    else:\n",
    "        # Incrementa a quantidade\n",
    "        qtdeSul += 1\n",
    "        \n",
    "# Mostra as quantidades\n",
    "print(f'A qtde de escolas no Centro-Oeste é: {qtdeCentroOeste}')\n",
    "print(qtdeNordeste)\n",
    "print(qtdeNorte)\n",
    "print(qtdeSudeste)\n",
    "print(qtdeSul)"
   ]
  },
  {
   "cell_type": "code",
   "execution_count": null,
   "metadata": {},
   "outputs": [],
   "source": [
    "# EXEMPLO\n",
    "# Obter UF do usuário e listar as escolas daquela UF\n",
    "\n",
    "# Obter dado do usuário\n",
    "uf_desejada = input('Digite a silga da UF: ')\n",
    "# Colocar depois\n",
    "uf_desejada = uf_desejada.upper()\n",
    "\n",
    "# Percorrer o dicionario imprimindo o nome / municipio da escola\n",
    "for escola in dicionario:\n",
    "    # Verifica se a UF é correspondente\n",
    "    if escola['SIGLA_UF_UNIDADE'] == uf_desejada:\n",
    "        # Exibe os dados da escola\n",
    "        print(f'Escola: {escola[\"NOME_UNIDADE\"]} / Cidade: {escola[\"NOME_MUNICIPIO_UNIDADE\"]}')"
   ]
  }
 ],
 "metadata": {
  "kernelspec": {
   "display_name": "Python 3",
   "language": "python",
   "name": "python3"
  },
  "language_info": {
   "codemirror_mode": {
    "name": "ipython",
    "version": 3
   },
   "file_extension": ".py",
   "mimetype": "text/x-python",
   "name": "python",
   "nbconvert_exporter": "python",
   "pygments_lexer": "ipython3",
   "version": "3.6.4"
  }
 },
 "nbformat": 4,
 "nbformat_minor": 2
}
