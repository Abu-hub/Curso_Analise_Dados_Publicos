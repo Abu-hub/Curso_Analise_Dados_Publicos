{
 "cells": [
  {
   "cell_type": "markdown",
   "metadata": {},
   "source": [
    "# Análise dos reembolsos a senadores - 2017 e 2018\n",
    "\n",
    "Análise dos dados de reembolso de cada senador da república nos anos de 2017 e 2018\n",
    "\n",
    "Como obter os dados:\n",
    "- Ir no site do Senado, Transparência, Cota Atividade OPS!\n",
    "- No site do Senado escolher Dados Abertos, Senadores Adm, Cota Atividade, 2017\n",
    "\n",
    "Arquivos:\n",
    "- reembolso_senadores_2017.csv\n",
    "- reembolso_senadores_2018.csv"
   ]
  },
  {
   "cell_type": "code",
   "execution_count": null,
   "metadata": {},
   "outputs": [],
   "source": [
    "# Vamos começar com 2017\n",
    "# Exercicio. Você já consegue fazer sozinho? Vamos tentar? Vamos começar juntos!\n",
    "\n",
    "# Primeiro passo: importacao\n",
    "import pandas as pd\n",
    "\n",
    "# Não precisa carregar o arquivo, o pandas já faz isso\n",
    "arquivo = \"reembolso_senadores_2017.csv\"\n",
    "\n",
    "# Importar para o pandas\n",
    "# Cuidado com o delimitador, o enconding e com as linhas que não nos interessam (iremos pular a primeira linha)\n",
    "# Já vamos converter a coluna VALOR_REEMBOLSADO no momento da carga. Leia a documentação\n",
    "df = pd.read_csv(arquivo, delimiter=';', encoding='cp1252', skiprows=1, dtype={\"VALOR_REEMBOLSADO\": float}, decimal=',')\n",
    "\n",
    "# Exibir as primeiras linhas\n",
    "df.head()"
   ]
  },
  {
   "cell_type": "code",
   "execution_count": null,
   "metadata": {},
   "outputs": [],
   "source": [
    "# Vamos verificar o DataFrame\n",
    "df.describe()"
   ]
  },
  {
   "cell_type": "code",
   "execution_count": null,
   "metadata": {
    "scrolled": true
   },
   "outputs": [],
   "source": [
    "# Vamos verificar o tipo de cada campo.\n",
    "# Object é quando o tipo do campo não foi definido pelo pandas e/ou será usado como string\n",
    "# Podemos mudar o tipo dos campos se for preciso\n",
    "df.dtypes"
   ]
  },
  {
   "cell_type": "code",
   "execution_count": null,
   "metadata": {},
   "outputs": [],
   "source": [
    "# Qual o valor total reembolsado\n",
    "df['VALOR_REEMBOLSADO'].sum()"
   ]
  },
  {
   "cell_type": "code",
   "execution_count": null,
   "metadata": {},
   "outputs": [],
   "source": [
    "# Vamos verificar os senadores\n",
    "df.SENADOR.unique()"
   ]
  },
  {
   "cell_type": "code",
   "execution_count": null,
   "metadata": {
    "scrolled": false
   },
   "outputs": [],
   "source": [
    "# Quantos reembolsos por senador?\n",
    "df.SENADOR.value_counts()"
   ]
  },
  {
   "cell_type": "code",
   "execution_count": null,
   "metadata": {},
   "outputs": [],
   "source": [
    "# Quanto cada senador recebeu de reembolso\n",
    "df.groupby('SENADOR')['VALOR_REEMBOLSADO'].sum().sort_values(ascending=False)"
   ]
  },
  {
   "cell_type": "code",
   "execution_count": null,
   "metadata": {
    "scrolled": true
   },
   "outputs": [],
   "source": [
    "# Quantos reembolsos por tipo de despesa?\n",
    "df['TIPO_DESPESA'].value_counts()"
   ]
  },
  {
   "cell_type": "code",
   "execution_count": null,
   "metadata": {},
   "outputs": [],
   "source": [
    "# Quanto foi reembolsado por cada tipo de despesa\n",
    "df.groupby('TIPO_DESPESA')['VALOR_REEMBOLSADO'].sum().sort_values(ascending=False)"
   ]
  },
  {
   "cell_type": "code",
   "execution_count": null,
   "metadata": {},
   "outputs": [],
   "source": [
    "# Vamos ver quanto cada senador gastou por mês por tipo de despesa\n",
    "# Vamos pivotar!\n",
    "# ATENÇÃO! Temos que lembrar que o pivot agrega os campos por média\n",
    "# Mas podemos especificar a agregação por count ou por sum\n",
    "# Leia a documentação\n",
    "df.pivot_table(index={'SENADOR', \"TIPO_DESPESA\"}, columns=\"MES\", values='VALOR_REEMBOLSADO', aggfunc='sum', fill_value=0, margins=True)"
   ]
  }
 ],
 "metadata": {
  "kernelspec": {
   "display_name": "Python 3",
   "language": "python",
   "name": "python3"
  },
  "language_info": {
   "codemirror_mode": {
    "name": "ipython",
    "version": 3
   },
   "file_extension": ".py",
   "mimetype": "text/x-python",
   "name": "python",
   "nbconvert_exporter": "python",
   "pygments_lexer": "ipython3",
   "version": "3.6.4"
  }
 },
 "nbformat": 4,
 "nbformat_minor": 2
}
