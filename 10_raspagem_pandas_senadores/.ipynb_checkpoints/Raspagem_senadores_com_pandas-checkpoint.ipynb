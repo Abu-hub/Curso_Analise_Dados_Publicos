{
 "cells": [
  {
   "cell_type": "markdown",
   "metadata": {},
   "source": [
    "# Obtendo dados de senadores\n",
    "Com base nos dados de senadores disponíveis no site do senado vamos obter esses dados e analisar"
   ]
  },
  {
   "cell_type": "code",
   "execution_count": null,
   "metadata": {},
   "outputs": [],
   "source": [
    "# Importando as bibliotecas\n",
    "import requests\n",
    "import pandas as pd\n",
    "\n",
    "# Site onde estão os dados\n",
    "url = \"http://www25.senado.leg.br/web/transparencia/sen/em-exercicio/-/e/por-nome\"\n",
    "\n",
    "# Requisicao para obter os dados\n",
    "r = requests.get(url)\n",
    "\n",
    "# Obtém os dados do HTML da página\n",
    "table = pd.read_html(r.text)\n",
    "\n",
    "# Pega o primeiro elemento, a tabela\n",
    "df = table[0]\n",
    "\n",
    "df.head()"
   ]
  },
  {
   "cell_type": "code",
   "execution_count": null,
   "metadata": {},
   "outputs": [],
   "source": [
    "# Quantos senadores?\n",
    "df.count()"
   ]
  },
  {
   "cell_type": "code",
   "execution_count": null,
   "metadata": {},
   "outputs": [],
   "source": [
    "# Exercício: Quantos senadores de cada partido\n",
    "\n",
    "# Resposta 1: Contar os valores do campo\n",
    "df.Partido.value_counts()"
   ]
  },
  {
   "cell_type": "code",
   "execution_count": null,
   "metadata": {
    "scrolled": true
   },
   "outputs": [],
   "source": [
    "# Resposta 2: Agrupar por Tipo\n",
    "df.groupby('Partido').count()"
   ]
  },
  {
   "cell_type": "code",
   "execution_count": null,
   "metadata": {},
   "outputs": [],
   "source": [
    "# Exercício\n",
    "# Separar por Estado\n",
    "# Fazer pivot"
   ]
  }
 ],
 "metadata": {
  "kernelspec": {
   "display_name": "Python 3",
   "language": "python",
   "name": "python3"
  },
  "language_info": {
   "codemirror_mode": {
    "name": "ipython",
    "version": 3
   },
   "file_extension": ".py",
   "mimetype": "text/x-python",
   "name": "python",
   "nbconvert_exporter": "python",
   "pygments_lexer": "ipython3",
   "version": "3.6.4"
  }
 },
 "nbformat": 4,
 "nbformat_minor": 2
}
