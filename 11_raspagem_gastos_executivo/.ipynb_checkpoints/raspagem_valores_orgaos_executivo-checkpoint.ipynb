{
 "cells": [
  {
   "cell_type": "markdown",
   "metadata": {},
   "source": [
    "# Raspagem dos Gastos Diretos por Órgão Executor\n",
    "\n",
    "No Portal da Transparência do Governo Federal iremos obter os dados de gastos diretos de alguns órgãos do Executivo Federal, ao longo dos últimos 5 anos\n",
    "\n",
    "## Estratégia\n",
    "Primeiro vamos ao site analisar a página e traçar uma estratégia para obter os dados.\n",
    "\n",
    "Podemos ver que precisamos do Ano e do CodigoOS, que é o código do órgão. Navegando pelas páginas com os dados de cada órgão podemos visualizar a URL formada e gurdar os códigos que queremos"
   ]
  },
  {
   "cell_type": "code",
   "execution_count": null,
   "metadata": {},
   "outputs": [],
   "source": [
    "# Importando as bibliotecas\n",
    "import requests\n",
    "from bs4 import BeautifulSoup as bs\n"
   ]
  },
  {
   "cell_type": "code",
   "execution_count": null,
   "metadata": {},
   "outputs": [],
   "source": [
    "# Vamos fazer primeiro para apenas 1 órgão -> MCTIC\n",
    "# Analisando a página verificamos que podemos obter os dados informando o Ano e o CodigoOS\n",
    "# MCTIC -> CodigoOS=24000\n",
    "\n",
    "url = 'http://www.portaltransparencia.gov.br/PortalComprasDiretasOEOrgaoSubordinado.asp?Ano=2018&CodigoOS=24000'\n",
    "\n",
    "resposta = requests.get(url)\n",
    "\n",
    "resposta.text"
   ]
  },
  {
   "cell_type": "code",
   "execution_count": null,
   "metadata": {},
   "outputs": [],
   "source": [
    "# Para obter as informações que queremos na página primeiro precisamos processar essa sopa de letrinhas\n",
    "# e fazemos isso usando a biblioteca BeautifulSoup\n",
    "html_soup = bs(resposta.text, 'html.parser')\n",
    "html_soup"
   ]
  },
  {
   "cell_type": "code",
   "execution_count": null,
   "metadata": {},
   "outputs": [],
   "source": [
    "# Agora precisamos identificar as tags HTML correspondentes ao texto que queremos\n",
    "# e usar o BeautifulSoup para retornar apenas esses elementos\n",
    "print(html_soup.find_all('td', class_ = 'colunaValor'))"
   ]
  },
  {
   "cell_type": "code",
   "execution_count": null,
   "metadata": {},
   "outputs": [],
   "source": [
    "# Obter os dados e guardar em uma estrutura\n",
    "valores = html_soup.find_all('td', class_ = 'colunaValor')\n",
    "\n",
    "# Agora vamos filtrar somente o texto do valor que queremos e vamos limpar os espaços\n",
    "valor = valores[1].text.strip()\n",
    "\n",
    "valor"
   ]
  },
  {
   "cell_type": "code",
   "execution_count": null,
   "metadata": {},
   "outputs": [],
   "source": [
    "# Valor está como string e precisa ser transformado em float\n",
    "# Trocar pontos por nada\n",
    "valor = valor.replace('.', '')\n",
    "# Trocar virgula por ponto\n",
    "valor = valor.replace(',', '.')\n",
    "# Transformar em float\n",
    "valor = float(valor)\n",
    "\n",
    "valor"
   ]
  },
  {
   "cell_type": "code",
   "execution_count": null,
   "metadata": {},
   "outputs": [],
   "source": [
    "# Obter os dados de gastos diretos dos ultimos 5 anos do MCTIC\n",
    "\n",
    "# Criar uma lista com os anos para depois fazer um for nessa lista e requisitar ano a ano\n",
    "anos = ['2014', '2015', '2016', '2017', '2018']\n",
    "\n",
    "# Criar lista vazia dos gastos\n",
    "gastos = []\n",
    "\n",
    "# Percorrer a lista de anos\n",
    "for ano in anos:\n",
    "    # Montar a URL de requisicao\n",
    "    url = f'http://www.portaltransparencia.gov.br/PortalComprasDiretasOEOrgaoSubordinado.asp?Ano={ano}&CodigoOS=24000'\n",
    "    # Requisitar a pagina\n",
    "    resposta = requests.get(url)\n",
    "    # Processar a sopa de letrinhas\n",
    "    html_soup = bs(resposta.text, 'html.parser')\n",
    "    # Extrair todos os valores\n",
    "    valores = html_soup.find_all('td', class_ = 'colunaValor')\n",
    "    # Pegar apenas 1 valor\n",
    "    valor = valores[1].text.strip()\n",
    "    # Trocar pontos por nada\n",
    "    valor = valor.replace('.', '')\n",
    "    # Trocar virgula por ponto\n",
    "    valor = valor.replace(',', '.')\n",
    "    # Transformar em float\n",
    "    valor = float(valor)\n",
    "    # Adicionar o valor na lista\n",
    "    gastos.append(valor/1000000000)\n",
    "\n",
    "# Imprimir gastos\n",
    "gastos"
   ]
  },
  {
   "cell_type": "code",
   "execution_count": null,
   "metadata": {},
   "outputs": [],
   "source": [
    "# Plotar os valores em um gráfico de linhas\n",
    "import matplotlib.pyplot as plt\n",
    "# Configurar para o grafico aparecer no notebook\n",
    "%matplotlib inline\n",
    "\n",
    "# Criar o grafico\n",
    "plt.grid(True, linestyle=\"--\")\n",
    "plt.plot(anos, gastos, label='MCTIC', marker='o')\n",
    "plt.title(\"Gastos Destinados pelo Governo Federal (2014-2018)\\n\")\n",
    "plt.xlabel(\"Anos\")\n",
    "plt.ylabel(\"Em bilhões de R$\")\n",
    "legend = plt.legend()\n",
    "plt.show()"
   ]
  },
  {
   "cell_type": "code",
   "execution_count": null,
   "metadata": {},
   "outputs": [],
   "source": [
    "# Exercicio -> Fazer para outros orgaos\n",
    "# Pegar o codigo de cada orgao na mão\n",
    "# Guardar em uma lista"
   ]
  }
 ],
 "metadata": {
  "kernelspec": {
   "display_name": "Python 3",
   "language": "python",
   "name": "python3"
  },
  "language_info": {
   "codemirror_mode": {
    "name": "ipython",
    "version": 3
   },
   "file_extension": ".py",
   "mimetype": "text/x-python",
   "name": "python",
   "nbconvert_exporter": "python",
   "pygments_lexer": "ipython3",
   "version": "3.6.4"
  }
 },
 "nbformat": 4,
 "nbformat_minor": 2
}
