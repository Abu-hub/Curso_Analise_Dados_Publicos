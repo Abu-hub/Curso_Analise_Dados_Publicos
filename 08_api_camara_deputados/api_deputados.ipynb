{
 "cells": [
  {
   "cell_type": "markdown",
   "metadata": {},
   "source": [
    "# Análise dos dados da API de deputados\n",
    "\n",
    "Análise dos dados obtidos por meio da API da Câmara com dados de deputados\n",
    "\n"
   ]
  },
  {
   "cell_type": "code",
   "execution_count": 1,
   "metadata": {},
   "outputs": [
    {
     "data": {
      "text/html": [
       "<div>\n",
       "<style scoped>\n",
       "    .dataframe tbody tr th:only-of-type {\n",
       "        vertical-align: middle;\n",
       "    }\n",
       "\n",
       "    .dataframe tbody tr th {\n",
       "        vertical-align: top;\n",
       "    }\n",
       "\n",
       "    .dataframe thead th {\n",
       "        text-align: right;\n",
       "    }\n",
       "</style>\n",
       "<table border=\"1\" class=\"dataframe\">\n",
       "  <thead>\n",
       "    <tr style=\"text-align: right;\">\n",
       "      <th></th>\n",
       "      <th>id</th>\n",
       "      <th>idLegislatura</th>\n",
       "      <th>nome</th>\n",
       "      <th>siglaPartido</th>\n",
       "      <th>siglaUf</th>\n",
       "      <th>uri</th>\n",
       "      <th>uriPartido</th>\n",
       "      <th>urlFoto</th>\n",
       "    </tr>\n",
       "  </thead>\n",
       "  <tbody>\n",
       "    <tr>\n",
       "      <th>0</th>\n",
       "      <td>178957</td>\n",
       "      <td>55</td>\n",
       "      <td>ABEL MESQUITA JR.</td>\n",
       "      <td>DEM</td>\n",
       "      <td>RR</td>\n",
       "      <td>https://dadosabertos.camara.leg.br/api/v2/depu...</td>\n",
       "      <td>https://dadosabertos.camara.leg.br/api/v2/part...</td>\n",
       "      <td>http://www.camara.leg.br/internet/deputado/ban...</td>\n",
       "    </tr>\n",
       "    <tr>\n",
       "      <th>1</th>\n",
       "      <td>178864</td>\n",
       "      <td>55</td>\n",
       "      <td>ADAIL CARNEIRO</td>\n",
       "      <td>PODE</td>\n",
       "      <td>CE</td>\n",
       "      <td>https://dadosabertos.camara.leg.br/api/v2/depu...</td>\n",
       "      <td>https://dadosabertos.camara.leg.br/api/v2/part...</td>\n",
       "      <td>http://www.camara.leg.br/internet/deputado/ban...</td>\n",
       "    </tr>\n",
       "    <tr>\n",
       "      <th>2</th>\n",
       "      <td>178914</td>\n",
       "      <td>55</td>\n",
       "      <td>ADALBERTO CAVALCANTI</td>\n",
       "      <td>AVANTE</td>\n",
       "      <td>PE</td>\n",
       "      <td>https://dadosabertos.camara.leg.br/api/v2/depu...</td>\n",
       "      <td>https://dadosabertos.camara.leg.br/api/v2/part...</td>\n",
       "      <td>http://www.camara.leg.br/internet/deputado/ban...</td>\n",
       "    </tr>\n",
       "    <tr>\n",
       "      <th>3</th>\n",
       "      <td>178890</td>\n",
       "      <td>55</td>\n",
       "      <td>ADELMO CARNEIRO LEÃO</td>\n",
       "      <td>PT</td>\n",
       "      <td>MG</td>\n",
       "      <td>https://dadosabertos.camara.leg.br/api/v2/depu...</td>\n",
       "      <td>https://dadosabertos.camara.leg.br/api/v2/part...</td>\n",
       "      <td>http://www.camara.leg.br/internet/deputado/ban...</td>\n",
       "    </tr>\n",
       "    <tr>\n",
       "      <th>4</th>\n",
       "      <td>178968</td>\n",
       "      <td>55</td>\n",
       "      <td>ADELSON BARRETO</td>\n",
       "      <td>PR</td>\n",
       "      <td>SE</td>\n",
       "      <td>https://dadosabertos.camara.leg.br/api/v2/depu...</td>\n",
       "      <td>https://dadosabertos.camara.leg.br/api/v2/part...</td>\n",
       "      <td>http://www.camara.leg.br/internet/deputado/ban...</td>\n",
       "    </tr>\n",
       "  </tbody>\n",
       "</table>\n",
       "</div>"
      ],
      "text/plain": [
       "       id  idLegislatura                  nome siglaPartido siglaUf  \\\n",
       "0  178957             55     ABEL MESQUITA JR.          DEM      RR   \n",
       "1  178864             55        ADAIL CARNEIRO         PODE      CE   \n",
       "2  178914             55  ADALBERTO CAVALCANTI       AVANTE      PE   \n",
       "3  178890             55  ADELMO CARNEIRO LEÃO           PT      MG   \n",
       "4  178968             55       ADELSON BARRETO           PR      SE   \n",
       "\n",
       "                                                 uri  \\\n",
       "0  https://dadosabertos.camara.leg.br/api/v2/depu...   \n",
       "1  https://dadosabertos.camara.leg.br/api/v2/depu...   \n",
       "2  https://dadosabertos.camara.leg.br/api/v2/depu...   \n",
       "3  https://dadosabertos.camara.leg.br/api/v2/depu...   \n",
       "4  https://dadosabertos.camara.leg.br/api/v2/depu...   \n",
       "\n",
       "                                          uriPartido  \\\n",
       "0  https://dadosabertos.camara.leg.br/api/v2/part...   \n",
       "1  https://dadosabertos.camara.leg.br/api/v2/part...   \n",
       "2  https://dadosabertos.camara.leg.br/api/v2/part...   \n",
       "3  https://dadosabertos.camara.leg.br/api/v2/part...   \n",
       "4  https://dadosabertos.camara.leg.br/api/v2/part...   \n",
       "\n",
       "                                             urlFoto  \n",
       "0  http://www.camara.leg.br/internet/deputado/ban...  \n",
       "1  http://www.camara.leg.br/internet/deputado/ban...  \n",
       "2  http://www.camara.leg.br/internet/deputado/ban...  \n",
       "3  http://www.camara.leg.br/internet/deputado/ban...  \n",
       "4  http://www.camara.leg.br/internet/deputado/ban...  "
      ]
     },
     "execution_count": 1,
     "metadata": {},
     "output_type": "execute_result"
    }
   ],
   "source": [
    "# Importando as bibliotecas\n",
    "import pandas as pd\n",
    "import requests\n",
    "\n",
    "# URL de acesso aos dados via api\n",
    "url = 'https://dadosabertos.camara.leg.br/api/v2/deputados?itens=100'\n",
    "\n",
    "# Pandas consegue ler JSON diretamente\n",
    "# df = pd.read_json(url)\n",
    "# ISSO NUNCA FUNCIONA\n",
    "# Vamos ter que requisitar o arquivo, transformar em lista, pegar apenas o elemento desejado e transformar em DF\n",
    "\n",
    "# Obtendo os dados\n",
    "resposta = requests.get(url)\n",
    "\n",
    "# Criando o DataFrame\n",
    "df = pd.DataFrame(resposta.json()['dados'])\n",
    "\n",
    "df.head()"
   ]
  },
  {
   "cell_type": "code",
   "execution_count": 2,
   "metadata": {},
   "outputs": [
    {
     "data": {
      "text/plain": [
       "id               100\n",
       "idLegislatura    100\n",
       "nome             100\n",
       "siglaPartido     100\n",
       "siglaUf          100\n",
       "uri              100\n",
       "uriPartido       100\n",
       "urlFoto          100\n",
       "dtype: int64"
      ]
     },
     "execution_count": 2,
     "metadata": {},
     "output_type": "execute_result"
    }
   ],
   "source": [
    "df.count()"
   ]
  },
  {
   "cell_type": "markdown",
   "metadata": {},
   "source": [
    "Por padrão, a API retorna apenas 100 deputados por vez.\n",
    "\n",
    "Então precisamos fazer novas requisições para obter os demais deputados"
   ]
  },
  {
   "cell_type": "code",
   "execution_count": 3,
   "metadata": {},
   "outputs": [
    {
     "data": {
      "text/plain": [
       "'https://dadosabertos.camara.leg.br/api/v2/deputados?&pagina=2&itens=100'"
      ]
     },
     "execution_count": 3,
     "metadata": {},
     "output_type": "execute_result"
    }
   ],
   "source": [
    "# Como obter os links para as próximas páginas\n",
    "resposta.json()['links'][1]['href']"
   ]
  },
  {
   "cell_type": "code",
   "execution_count": 4,
   "metadata": {},
   "outputs": [
    {
     "data": {
      "text/plain": [
       "id               512\n",
       "idLegislatura    512\n",
       "nome             512\n",
       "siglaPartido     512\n",
       "siglaUf          512\n",
       "uri              512\n",
       "uriPartido       512\n",
       "urlFoto          512\n",
       "dtype: int64"
      ]
     },
     "execution_count": 4,
     "metadata": {},
     "output_type": "execute_result"
    }
   ],
   "source": [
    "# Separar os links da resposta\n",
    "for item in resposta.json()['links']:    \n",
    "    if item['rel'] == 'self':\n",
    "        atual = item['href']\n",
    "    elif item['rel'] == 'last':\n",
    "        ultimo = item['href']\n",
    "    elif item['rel'] == 'next':\n",
    "        proximo = item['href']\n",
    "\n",
    "# Enquanto a pagina atual for diferente da ultima pagina\n",
    "while atual != ultimo:\n",
    "    # Requisita os dados\n",
    "    resposta = requests.get(proximo)\n",
    "    # Adiciona no df\n",
    "    df = df.append(pd.DataFrame(resposta.json()['dados']))\n",
    "    \n",
    "    # Separar os links da resposta\n",
    "    for item in resposta.json()['links']:\n",
    "        if item['rel'] == 'self':\n",
    "            atual = item['href']\n",
    "        elif item['rel'] == 'last':\n",
    "            ultimo = item['href']\n",
    "        elif item['rel'] == 'next':\n",
    "            proximo = item['href']\n",
    "        \n",
    "df.count()"
   ]
  },
  {
   "cell_type": "code",
   "execution_count": 5,
   "metadata": {},
   "outputs": [
    {
     "data": {
      "text/html": [
       "<div>\n",
       "<style scoped>\n",
       "    .dataframe tbody tr th:only-of-type {\n",
       "        vertical-align: middle;\n",
       "    }\n",
       "\n",
       "    .dataframe tbody tr th {\n",
       "        vertical-align: top;\n",
       "    }\n",
       "\n",
       "    .dataframe thead th {\n",
       "        text-align: right;\n",
       "    }\n",
       "</style>\n",
       "<table border=\"1\" class=\"dataframe\">\n",
       "  <thead>\n",
       "    <tr style=\"text-align: right;\">\n",
       "      <th></th>\n",
       "      <th>id</th>\n",
       "      <th>idLegislatura</th>\n",
       "      <th>nome</th>\n",
       "      <th>siglaPartido</th>\n",
       "      <th>siglaUf</th>\n",
       "      <th>uri</th>\n",
       "      <th>uriPartido</th>\n",
       "      <th>urlFoto</th>\n",
       "    </tr>\n",
       "  </thead>\n",
       "  <tbody>\n",
       "    <tr>\n",
       "      <th>0</th>\n",
       "      <td>178957</td>\n",
       "      <td>55</td>\n",
       "      <td>ABEL MESQUITA JR.</td>\n",
       "      <td>DEM</td>\n",
       "      <td>RR</td>\n",
       "      <td>https://dadosabertos.camara.leg.br/api/v2/depu...</td>\n",
       "      <td>https://dadosabertos.camara.leg.br/api/v2/part...</td>\n",
       "      <td>http://www.camara.leg.br/internet/deputado/ban...</td>\n",
       "    </tr>\n",
       "    <tr>\n",
       "      <th>1</th>\n",
       "      <td>178864</td>\n",
       "      <td>55</td>\n",
       "      <td>ADAIL CARNEIRO</td>\n",
       "      <td>PODE</td>\n",
       "      <td>CE</td>\n",
       "      <td>https://dadosabertos.camara.leg.br/api/v2/depu...</td>\n",
       "      <td>https://dadosabertos.camara.leg.br/api/v2/part...</td>\n",
       "      <td>http://www.camara.leg.br/internet/deputado/ban...</td>\n",
       "    </tr>\n",
       "    <tr>\n",
       "      <th>2</th>\n",
       "      <td>178914</td>\n",
       "      <td>55</td>\n",
       "      <td>ADALBERTO CAVALCANTI</td>\n",
       "      <td>AVANTE</td>\n",
       "      <td>PE</td>\n",
       "      <td>https://dadosabertos.camara.leg.br/api/v2/depu...</td>\n",
       "      <td>https://dadosabertos.camara.leg.br/api/v2/part...</td>\n",
       "      <td>http://www.camara.leg.br/internet/deputado/ban...</td>\n",
       "    </tr>\n",
       "    <tr>\n",
       "      <th>3</th>\n",
       "      <td>178890</td>\n",
       "      <td>55</td>\n",
       "      <td>ADELMO CARNEIRO LEÃO</td>\n",
       "      <td>PT</td>\n",
       "      <td>MG</td>\n",
       "      <td>https://dadosabertos.camara.leg.br/api/v2/depu...</td>\n",
       "      <td>https://dadosabertos.camara.leg.br/api/v2/part...</td>\n",
       "      <td>http://www.camara.leg.br/internet/deputado/ban...</td>\n",
       "    </tr>\n",
       "    <tr>\n",
       "      <th>4</th>\n",
       "      <td>178968</td>\n",
       "      <td>55</td>\n",
       "      <td>ADELSON BARRETO</td>\n",
       "      <td>PR</td>\n",
       "      <td>SE</td>\n",
       "      <td>https://dadosabertos.camara.leg.br/api/v2/depu...</td>\n",
       "      <td>https://dadosabertos.camara.leg.br/api/v2/part...</td>\n",
       "      <td>http://www.camara.leg.br/internet/deputado/ban...</td>\n",
       "    </tr>\n",
       "  </tbody>\n",
       "</table>\n",
       "</div>"
      ],
      "text/plain": [
       "       id  idLegislatura                  nome siglaPartido siglaUf  \\\n",
       "0  178957             55     ABEL MESQUITA JR.          DEM      RR   \n",
       "1  178864             55        ADAIL CARNEIRO         PODE      CE   \n",
       "2  178914             55  ADALBERTO CAVALCANTI       AVANTE      PE   \n",
       "3  178890             55  ADELMO CARNEIRO LEÃO           PT      MG   \n",
       "4  178968             55       ADELSON BARRETO           PR      SE   \n",
       "\n",
       "                                                 uri  \\\n",
       "0  https://dadosabertos.camara.leg.br/api/v2/depu...   \n",
       "1  https://dadosabertos.camara.leg.br/api/v2/depu...   \n",
       "2  https://dadosabertos.camara.leg.br/api/v2/depu...   \n",
       "3  https://dadosabertos.camara.leg.br/api/v2/depu...   \n",
       "4  https://dadosabertos.camara.leg.br/api/v2/depu...   \n",
       "\n",
       "                                          uriPartido  \\\n",
       "0  https://dadosabertos.camara.leg.br/api/v2/part...   \n",
       "1  https://dadosabertos.camara.leg.br/api/v2/part...   \n",
       "2  https://dadosabertos.camara.leg.br/api/v2/part...   \n",
       "3  https://dadosabertos.camara.leg.br/api/v2/part...   \n",
       "4  https://dadosabertos.camara.leg.br/api/v2/part...   \n",
       "\n",
       "                                             urlFoto  \n",
       "0  http://www.camara.leg.br/internet/deputado/ban...  \n",
       "1  http://www.camara.leg.br/internet/deputado/ban...  \n",
       "2  http://www.camara.leg.br/internet/deputado/ban...  \n",
       "3  http://www.camara.leg.br/internet/deputado/ban...  \n",
       "4  http://www.camara.leg.br/internet/deputado/ban...  "
      ]
     },
     "execution_count": 5,
     "metadata": {},
     "output_type": "execute_result"
    }
   ],
   "source": [
    "df.head()"
   ]
  },
  {
   "cell_type": "code",
   "execution_count": 6,
   "metadata": {},
   "outputs": [
    {
     "data": {
      "text/plain": [
       "siglaUf  siglaPartido\n",
       "AC       PT               3\n",
       "         MDB              2\n",
       "         DEM              1\n",
       "         PSB              1\n",
       "         PSDB             1\n",
       "AL       AVANTE           1\n",
       "         PDT              1\n",
       "         PHS              1\n",
       "         PP               1\n",
       "         PR               1\n",
       "         PSB              1\n",
       "         PSD              1\n",
       "         PSDB             1\n",
       "         PT               1\n",
       "AM       PSDB             2\n",
       "         DEM              1\n",
       "         MDB              1\n",
       "         PDT              1\n",
       "         PP               1\n",
       "         PR               1\n",
       "         PRB              1\n",
       "AP       MDB              1\n",
       "         PCdoB            1\n",
       "         PODE             1\n",
       "         PP               1\n",
       "         PR               1\n",
       "         PSB              1\n",
       "         PSD              1\n",
       "BA       PT               7\n",
       "         PP               5\n",
       "                         ..\n",
       "SE       PRB              1\n",
       "         PSB              1\n",
       "         PSC              1\n",
       "         PSD              1\n",
       "         PT               1\n",
       "SP       PSDB            13\n",
       "         PT              10\n",
       "         PR               6\n",
       "         PRB              6\n",
       "         DEM              5\n",
       "         MDB              4\n",
       "         PODE             4\n",
       "         PP               4\n",
       "         PSB              3\n",
       "         PPS              2\n",
       "         PSC              2\n",
       "         PSD              2\n",
       "         PSL              2\n",
       "         PSOL             2\n",
       "         PV               2\n",
       "         PCdoB            1\n",
       "         PTB              1\n",
       "         SD               1\n",
       "TO       DEM              2\n",
       "         MDB              1\n",
       "         PP               1\n",
       "         PR               1\n",
       "         PRB              1\n",
       "         PROS             1\n",
       "         PSD              1\n",
       "Name: siglaPartido, Length: 293, dtype: int64"
      ]
     },
     "execution_count": 6,
     "metadata": {},
     "output_type": "execute_result"
    }
   ],
   "source": [
    "# Quantos partidos?\n",
    "df.groupby('siglaUf').siglaPartido.value_counts()"
   ]
  },
  {
   "cell_type": "code",
   "execution_count": 7,
   "metadata": {},
   "outputs": [
    {
     "data": {
      "text/plain": [
       "RJ    8\n",
       "SP    5\n",
       "BA    4\n",
       "MG    4\n",
       "TO    2\n",
       "PE    2\n",
       "MS    2\n",
       "AC    1\n",
       "SC    1\n",
       "MT    1\n",
       "PB    1\n",
       "PA    1\n",
       "DF    1\n",
       "RN    1\n",
       "PI    1\n",
       "RS    1\n",
       "CE    1\n",
       "PR    1\n",
       "RR    1\n",
       "AM    1\n",
       "RO    1\n",
       "MA    1\n",
       "ES    1\n",
       "Name: siglaUf, dtype: int64"
      ]
     },
     "execution_count": 7,
     "metadata": {},
     "output_type": "execute_result"
    }
   ],
   "source": [
    "# Aprendendo a usar query\n",
    "# Podemos filtrar o DataFrame de acordo com algum critério\n",
    "# No caso vamos pegar apenas os deputados do DEM e contar a quantidade por UF\n",
    "df.query('siglaPartido == \"DEM\"').siglaUf.value_counts()"
   ]
  },
  {
   "cell_type": "code",
   "execution_count": 8,
   "metadata": {},
   "outputs": [
    {
     "data": {
      "text/plain": [
       "17             ALEXANDRE LEITE\n",
       "44            ELI CORRÊA FILHO\n",
       "42         JORGE TADEU MUDALEN\n",
       "52    MISSIONÁRIO JOSÉ OLIMPIO\n",
       "21              RODRIGO GARCIA\n",
       "Name: nome, dtype: object"
      ]
     },
     "execution_count": 8,
     "metadata": {},
     "output_type": "execute_result"
    }
   ],
   "source": [
    "# Usando query para restringir a busca no DataFrame\n",
    "# Agora vamos filtrar os deputados do DEM que são de São Paulo, e vamos mostrar seus nomes\n",
    "df.query('siglaPartido == \"DEM\" and siglaUf == \"SP\"').nome"
   ]
  }
 ],
 "metadata": {
  "kernelspec": {
   "display_name": "Python 3",
   "language": "python",
   "name": "python3"
  },
  "language_info": {
   "codemirror_mode": {
    "name": "ipython",
    "version": 3
   },
   "file_extension": ".py",
   "mimetype": "text/x-python",
   "name": "python",
   "nbconvert_exporter": "python",
   "pygments_lexer": "ipython3",
   "version": "3.6.4"
  }
 },
 "nbformat": 4,
 "nbformat_minor": 2
}
