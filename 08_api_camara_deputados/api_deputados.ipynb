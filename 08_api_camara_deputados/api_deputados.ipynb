{
 "cells": [
  {
   "cell_type": "markdown",
   "metadata": {},
   "source": [
    "# Análise dos dados da API de deputados\n",
    "\n",
    "Análise dos dados obtidos por meio da API da Câmara com dados de deputados\n",
    "\n"
   ]
  },
  {
   "cell_type": "code",
   "execution_count": null,
   "metadata": {},
   "outputs": [],
   "source": [
    "# Importando as bibliotecas\n",
    "import pandas as pd\n",
    "import requests\n",
    "\n",
    "# URL de acesso aos dados via api\n",
    "url = 'https://dadosabertos.camara.leg.br/api/v2/deputados?itens=100'\n",
    "\n",
    "# Pandas consegue ler JSON diretamente\n",
    "# df = pd.read_json(url)\n",
    "# ISSO NUNCA FUNCIONA\n",
    "# Vamos ter que requisitar o arquivo, transformar em lista, pegar apenas o elemento desejado e transformar em DF\n",
    "\n",
    "# Obtendo os dados\n",
    "resposta = requests.get(url)\n",
    "\n",
    "# Criando o DataFrame\n",
    "df = pd.DataFrame(resposta.json()['dados'])\n",
    "\n",
    "df.head()"
   ]
  },
  {
   "cell_type": "code",
   "execution_count": null,
   "metadata": {},
   "outputs": [],
   "source": [
    "df.count()"
   ]
  },
  {
   "cell_type": "markdown",
   "metadata": {},
   "source": [
    "Por padrão, a API retorna apenas 100 deputados por vez.\n",
    "\n",
    "Então precisamos fazer novas requisições para obter os demais deputados"
   ]
  },
  {
   "cell_type": "code",
   "execution_count": null,
   "metadata": {},
   "outputs": [],
   "source": [
    "# Como obter os links para as próximas páginas\n",
    "resposta.json()['links'][1]['href']"
   ]
  },
  {
   "cell_type": "code",
   "execution_count": null,
   "metadata": {},
   "outputs": [],
   "source": [
    "# Separar os links da resposta\n",
    "for item in resposta.json()['links']:    \n",
    "    if item['rel'] == 'self':\n",
    "        atual = item['href']\n",
    "    elif item['rel'] == 'last':\n",
    "        ultimo = item['href']\n",
    "    elif item['rel'] == 'next':\n",
    "        proximo = item['href']\n",
    "\n",
    "# Enquanto a pagina atual for diferente da ultima pagina\n",
    "while atual != ultimo:\n",
    "    # Requisita os dados\n",
    "    resposta = requests.get(proximo)\n",
    "    # Adiciona no df\n",
    "    df = df.append(pd.DataFrame(resposta.json()['dados']))\n",
    "    \n",
    "    # Separar os links da resposta\n",
    "    for item in resposta.json()['links']:\n",
    "        if item['rel'] == 'self':\n",
    "            atual = item['href']\n",
    "        elif item['rel'] == 'last':\n",
    "            ultimo = item['href']\n",
    "        elif item['rel'] == 'next':\n",
    "            proximo = item['href']\n",
    "        \n",
    "df.count()"
   ]
  },
  {
   "cell_type": "code",
   "execution_count": null,
   "metadata": {},
   "outputs": [],
   "source": [
    "df.head()"
   ]
  },
  {
   "cell_type": "code",
   "execution_count": null,
   "metadata": {},
   "outputs": [],
   "source": [
    "# Quantos partidos?\n",
    "df.groupby('siglaUf').siglaPartido.value_counts()"
   ]
  },
  {
   "cell_type": "code",
   "execution_count": null,
   "metadata": {},
   "outputs": [],
   "source": [
    "# Aprendendo a usar query\n",
    "# Podemos filtrar o DataFrame de acordo com algum critério\n",
    "# No caso vamos pegar apenas os deputados do DEM e contar a quantidade por UF\n",
    "df.query('siglaPartido == \"DEM\"').siglaUf.value_counts()"
   ]
  },
  {
   "cell_type": "code",
   "execution_count": null,
   "metadata": {},
   "outputs": [],
   "source": [
    "# Usando query para restringir a busca no DataFrame\n",
    "# Agora vamos filtrar os deputados do DEM que são de São Paulo, e vamos mostrar seus nomes\n",
    "df.query('siglaPartido == \"DEM\" and siglaUf == \"SP\"').nome"
   ]
  }
 ],
 "metadata": {
  "kernelspec": {
   "display_name": "Python 3",
   "language": "python",
   "name": "python3"
  },
  "language_info": {
   "codemirror_mode": {
    "name": "ipython",
    "version": 3
   },
   "file_extension": ".py",
   "mimetype": "text/x-python",
   "name": "python",
   "nbconvert_exporter": "python",
   "pygments_lexer": "ipython3",
   "version": "3.6.4"
  }
 },
 "nbformat": 4,
 "nbformat_minor": 2
}
